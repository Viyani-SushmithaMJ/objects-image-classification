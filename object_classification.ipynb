{
 "cells": [
  {
   "cell_type": "markdown",
   "id": "47403b85",
   "metadata": {},
   "source": [
    "STEP 1.Install and Import all the necessary libraries and environment check"
   ]
  },
  {
   "cell_type": "code",
   "execution_count": 35,
   "id": "3ae9d6cc",
   "metadata": {},
   "outputs": [
    {
     "name": "stdout",
     "output_type": "stream",
     "text": [
      "Requirement already satisfied: torch in /system/conda/miniconda3/envs/cloudspace/lib/python3.10/site-packages (2.2.1+cu121)\n",
      "Requirement already satisfied: torchvision in /system/conda/miniconda3/envs/cloudspace/lib/python3.10/site-packages (0.17.1+cu121)\n",
      "Requirement already satisfied: filelock in /system/conda/miniconda3/envs/cloudspace/lib/python3.10/site-packages (from torch) (3.16.1)\n",
      "Requirement already satisfied: typing-extensions>=4.8.0 in /system/conda/miniconda3/envs/cloudspace/lib/python3.10/site-packages (from torch) (4.12.2)\n",
      "Requirement already satisfied: sympy in /system/conda/miniconda3/envs/cloudspace/lib/python3.10/site-packages (from torch) (1.13.3)\n",
      "Requirement already satisfied: networkx in /system/conda/miniconda3/envs/cloudspace/lib/python3.10/site-packages (from torch) (3.4.2)\n",
      "Requirement already satisfied: jinja2 in /system/conda/miniconda3/envs/cloudspace/lib/python3.10/site-packages (from torch) (3.1.4)\n",
      "Requirement already satisfied: fsspec in /system/conda/miniconda3/envs/cloudspace/lib/python3.10/site-packages (from torch) (2024.10.0)\n",
      "Requirement already satisfied: nvidia-cuda-nvrtc-cu12==12.1.105 in /system/conda/miniconda3/envs/cloudspace/lib/python3.10/site-packages (from torch) (12.1.105)\n",
      "Requirement already satisfied: nvidia-cuda-runtime-cu12==12.1.105 in /system/conda/miniconda3/envs/cloudspace/lib/python3.10/site-packages (from torch) (12.1.105)\n",
      "Requirement already satisfied: nvidia-cuda-cupti-cu12==12.1.105 in /system/conda/miniconda3/envs/cloudspace/lib/python3.10/site-packages (from torch) (12.1.105)\n",
      "Requirement already satisfied: nvidia-cudnn-cu12==8.9.2.26 in /system/conda/miniconda3/envs/cloudspace/lib/python3.10/site-packages (from torch) (8.9.2.26)\n",
      "Requirement already satisfied: nvidia-cublas-cu12==12.1.3.1 in /system/conda/miniconda3/envs/cloudspace/lib/python3.10/site-packages (from torch) (12.1.3.1)\n",
      "Requirement already satisfied: nvidia-cufft-cu12==11.0.2.54 in /system/conda/miniconda3/envs/cloudspace/lib/python3.10/site-packages (from torch) (11.0.2.54)\n",
      "Requirement already satisfied: nvidia-curand-cu12==10.3.2.106 in /system/conda/miniconda3/envs/cloudspace/lib/python3.10/site-packages (from torch) (10.3.2.106)\n",
      "Requirement already satisfied: nvidia-cusolver-cu12==11.4.5.107 in /system/conda/miniconda3/envs/cloudspace/lib/python3.10/site-packages (from torch) (11.4.5.107)\n",
      "Requirement already satisfied: nvidia-cusparse-cu12==12.1.0.106 in /system/conda/miniconda3/envs/cloudspace/lib/python3.10/site-packages (from torch) (12.1.0.106)\n",
      "Requirement already satisfied: nvidia-nccl-cu12==2.19.3 in /system/conda/miniconda3/envs/cloudspace/lib/python3.10/site-packages (from torch) (2.19.3)\n",
      "Requirement already satisfied: nvidia-nvtx-cu12==12.1.105 in /system/conda/miniconda3/envs/cloudspace/lib/python3.10/site-packages (from torch) (12.1.105)\n",
      "Requirement already satisfied: triton==2.2.0 in /system/conda/miniconda3/envs/cloudspace/lib/python3.10/site-packages (from torch) (2.2.0)\n",
      "Requirement already satisfied: nvidia-nvjitlink-cu12 in /system/conda/miniconda3/envs/cloudspace/lib/python3.10/site-packages (from nvidia-cusolver-cu12==11.4.5.107->torch) (12.6.77)\n",
      "Requirement already satisfied: numpy in /system/conda/miniconda3/envs/cloudspace/lib/python3.10/site-packages (from torchvision) (1.26.4)\n",
      "Requirement already satisfied: pillow!=8.3.*,>=5.3.0 in /system/conda/miniconda3/envs/cloudspace/lib/python3.10/site-packages (from torchvision) (11.0.0)\n",
      "Requirement already satisfied: MarkupSafe>=2.0 in /system/conda/miniconda3/envs/cloudspace/lib/python3.10/site-packages (from jinja2->torch) (3.0.2)\n",
      "Requirement already satisfied: mpmath<1.4,>=1.1.0 in /system/conda/miniconda3/envs/cloudspace/lib/python3.10/site-packages (from sympy->torch) (1.3.0)\n"
     ]
    }
   ],
   "source": [
    "!pip3 install torch torchvision"
   ]
  },
  {
   "cell_type": "code",
   "execution_count": 36,
   "id": "afcceafc-fca1-4a02-a3fc-8e83d873c6d2",
   "metadata": {},
   "outputs": [
    {
     "name": "stdout",
     "output_type": "stream",
     "text": [
      "Sat Nov  9 06:09:02 2024       \n",
      "+---------------------------------------------------------------------------------------+\n",
      "| NVIDIA-SMI 535.216.01             Driver Version: 535.216.01   CUDA Version: 12.2     |\n",
      "|-----------------------------------------+----------------------+----------------------+\n",
      "| GPU  Name                 Persistence-M | Bus-Id        Disp.A | Volatile Uncorr. ECC |\n",
      "| Fan  Temp   Perf          Pwr:Usage/Cap |         Memory-Usage | GPU-Util  Compute M. |\n",
      "|                                         |                      |               MIG M. |\n",
      "|=========================================+======================+======================|\n",
      "|   0  Tesla T4                       Off | 00000000:00:1E.0 Off |                    0 |\n",
      "| N/A   33C    P0              32W /  70W |   3647MiB / 15360MiB |      0%      Default |\n",
      "|                                         |                      |                  N/A |\n",
      "+-----------------------------------------+----------------------+----------------------+\n",
      "                                                                                         \n",
      "+---------------------------------------------------------------------------------------+\n",
      "| Processes:                                                                            |\n",
      "|  GPU   GI   CI        PID   Type   Process name                            GPU Memory |\n",
      "|        ID   ID                                                             Usage      |\n",
      "|=======================================================================================|\n",
      "+---------------------------------------------------------------------------------------+\n"
     ]
    }
   ],
   "source": [
    "!nvidia-smi #check GPU"
   ]
  },
  {
   "cell_type": "code",
   "execution_count": 37,
   "id": "67d096aa-80b4-4741-9074-1e4e01af30e0",
   "metadata": {},
   "outputs": [
    {
     "name": "stdout",
     "output_type": "stream",
     "text": [
      "Using torch 2.2.1+cu121\n"
     ]
    }
   ],
   "source": [
    "import torch\n",
    "print(\"Using torch\", torch.__version__)"
   ]
  },
  {
   "cell_type": "code",
   "execution_count": 38,
   "id": "3cfadada-60b9-4419-bcf0-f8bf760b32cd",
   "metadata": {},
   "outputs": [
    {
     "name": "stdout",
     "output_type": "stream",
     "text": [
      "tensor([[0.4835, 0.0220, 0.4677],\n",
      "        [0.6716, 0.3949, 0.8558],\n",
      "        [0.3917, 0.1964, 0.0040],\n",
      "        [0.9966, 0.4648, 0.1547],\n",
      "        [0.6731, 0.4190, 0.5973]])\n"
     ]
    }
   ],
   "source": [
    "x = torch.rand(5, 3)\n",
    "print(x)"
   ]
  },
  {
   "cell_type": "code",
   "execution_count": 39,
   "id": "8cb82f0d-a85e-44b5-9d52-c0655e94b275",
   "metadata": {},
   "outputs": [
    {
     "name": "stdout",
     "output_type": "stream",
     "text": [
      "0.17.1+cu121\n"
     ]
    }
   ],
   "source": [
    "import torchvision\n",
    "print(torchvision.__version__)"
   ]
  },
  {
   "cell_type": "code",
   "execution_count": 40,
   "id": "8ea7685d-66df-468d-90d3-bdd517ffed2f",
   "metadata": {},
   "outputs": [],
   "source": [
    "if torch.cuda.is_available():\n",
    "    device = torch.device('cuda')  # CUDA GPU\n",
    "elif torch.backends.mps.is_available():\n",
    "    device = torch.device('mps') #Apple GPU\n",
    "else:\n",
    "    device = torch.device(\"cpu\")"
   ]
  },
  {
   "cell_type": "code",
   "execution_count": 41,
   "id": "d3ce10c9-ca9f-4a0a-9279-eb217c088f41",
   "metadata": {},
   "outputs": [
    {
     "name": "stdout",
     "output_type": "stream",
     "text": [
      "Using device: cuda\n",
      "Device name:  Tesla T4\n",
      "Device properties: _CudaDeviceProperties(name='Tesla T4', major=7, minor=5, total_memory=15102MB, multi_processor_count=40)\n",
      "Memory Usage:\n",
      "Allocated: 0.4 GB\n",
      "Cached:    3.4 GB\n"
     ]
    }
   ],
   "source": [
    "print('Using device:', device)\n",
    "#Additional Info when using cuda\n",
    "if device.type == 'cuda':\n",
    "    print(\"Device name: \", torch.cuda.get_device_name(0))\n",
    "    print(\"Device properties:\", torch.cuda.get_device_properties(0))\n",
    "    print('Memory Usage:')\n",
    "    print('Allocated:', round(torch.cuda.memory_allocated(0)/1024**3,1), 'GB')\n",
    "    print('Cached:   ', round(torch.cuda.memory_reserved(0)/1024**3,1), 'GB')"
   ]
  },
  {
   "cell_type": "code",
   "execution_count": 42,
   "id": "139ad9b9-6a51-40cc-8e88-41e6e9c41571",
   "metadata": {},
   "outputs": [
    {
     "data": {
      "text/plain": [
       "1"
      ]
     },
     "execution_count": 42,
     "metadata": {},
     "output_type": "execute_result"
    }
   ],
   "source": [
    "torch.cuda.device_count()"
   ]
  },
  {
   "cell_type": "code",
   "execution_count": 43,
   "id": "9138276b-0cbb-43c8-bcfe-d8662843e3f2",
   "metadata": {},
   "outputs": [
    {
     "data": {
      "text/plain": [
       "'12.1'"
      ]
     },
     "execution_count": 43,
     "metadata": {},
     "output_type": "execute_result"
    }
   ],
   "source": [
    "torch.version.cuda"
   ]
  },
  {
   "cell_type": "code",
   "execution_count": 44,
   "id": "4544c270-b7cf-44ef-b2e9-fd9417f798dd",
   "metadata": {},
   "outputs": [
    {
     "name": "stdout",
     "output_type": "stream",
     "text": [
      "nvcc: NVIDIA (R) Cuda compiler driver\n",
      "Copyright (c) 2005-2023 NVIDIA Corporation\n",
      "Built on Mon_Apr__3_17:16:06_PDT_2023\n",
      "Cuda compilation tools, release 12.1, V12.1.105\n",
      "Build cuda_12.1.r12.1/compiler.32688072_0\n"
     ]
    }
   ],
   "source": [
    "!nvcc -V"
   ]
  },
  {
   "cell_type": "code",
   "execution_count": 45,
   "id": "848f4f08-c15b-46f0-8360-f1d33985c7bd",
   "metadata": {},
   "outputs": [
    {
     "data": {
      "text/plain": [
       "8902"
      ]
     },
     "execution_count": 45,
     "metadata": {},
     "output_type": "execute_result"
    }
   ],
   "source": [
    "torch.backends.cudnn.version()"
   ]
  },
  {
   "cell_type": "code",
   "execution_count": 46,
   "id": "6b1341bf-c7f9-4391-8247-b7b765fd0dc3",
   "metadata": {},
   "outputs": [
    {
     "name": "stdout",
     "output_type": "stream",
     "text": [
      "/opt/amazon/efa/lib:/opt/aws-ofi-nccl/lib:/usr/local/nvidia/lib:/usr/local/nvidia/lib64\n"
     ]
    }
   ],
   "source": [
    "!echo $LD_LIBRARY_PATH"
   ]
  },
  {
   "cell_type": "code",
   "execution_count": 47,
   "id": "954cf230-935f-4134-949c-7d9091a0c3ab",
   "metadata": {},
   "outputs": [
    {
     "data": {
      "text/plain": [
       "<torch._C.Generator at 0x7f0bb2044090>"
      ]
     },
     "execution_count": 47,
     "metadata": {},
     "output_type": "execute_result"
    }
   ],
   "source": [
    "torch.manual_seed(42) # Setting the seed"
   ]
  },
  {
   "cell_type": "code",
   "execution_count": 48,
   "id": "4e10abd2-790d-42e3-8b06-d7a0e0628f1e",
   "metadata": {},
   "outputs": [
    {
     "name": "stdout",
     "output_type": "stream",
     "text": [
      "Requirement already satisfied: py7zr in /system/conda/miniconda3/envs/cloudspace/lib/python3.10/site-packages (0.22.0)\n",
      "Requirement already satisfied: texttable in /system/conda/miniconda3/envs/cloudspace/lib/python3.10/site-packages (from py7zr) (1.7.0)\n",
      "Requirement already satisfied: pycryptodomex>=3.16.0 in /system/conda/miniconda3/envs/cloudspace/lib/python3.10/site-packages (from py7zr) (3.21.0)\n",
      "Requirement already satisfied: pyzstd>=0.15.9 in /system/conda/miniconda3/envs/cloudspace/lib/python3.10/site-packages (from py7zr) (0.16.2)\n",
      "Requirement already satisfied: pyppmd<1.2.0,>=1.1.0 in /system/conda/miniconda3/envs/cloudspace/lib/python3.10/site-packages (from py7zr) (1.1.0)\n",
      "Requirement already satisfied: pybcj<1.1.0,>=1.0.0 in /system/conda/miniconda3/envs/cloudspace/lib/python3.10/site-packages (from py7zr) (1.0.2)\n",
      "Requirement already satisfied: multivolumefile>=0.2.3 in /system/conda/miniconda3/envs/cloudspace/lib/python3.10/site-packages (from py7zr) (0.2.3)\n",
      "Requirement already satisfied: inflate64<1.1.0,>=1.0.0 in /system/conda/miniconda3/envs/cloudspace/lib/python3.10/site-packages (from py7zr) (1.0.0)\n",
      "Requirement already satisfied: brotli>=1.1.0 in /system/conda/miniconda3/envs/cloudspace/lib/python3.10/site-packages (from py7zr) (1.1.0)\n",
      "Requirement already satisfied: psutil in /system/conda/miniconda3/envs/cloudspace/lib/python3.10/site-packages (from py7zr) (6.1.0)\n"
     ]
    }
   ],
   "source": [
    "import zipfile\n",
    "!pip install py7zr\n"
   ]
  },
  {
   "cell_type": "markdown",
   "id": "8bda01dd",
   "metadata": {},
   "source": [
    "Step2. Load the Dataset unzip and view the categories and preprocessing"
   ]
  },
  {
   "cell_type": "code",
   "execution_count": 49,
   "id": "4d82b473-562c-4057-bbb3-32c2865d6ac7",
   "metadata": {},
   "outputs": [
    {
     "name": "stdout",
     "output_type": "stream",
     "text": [
      "Extraction completed. Files are in images\n"
     ]
    }
   ],
   "source": [
    "import py7zr\n",
    "\n",
    "archive_path = \"Data.7z\"\n",
    "destination_folder = \"images\"\n",
    "\n",
    "with py7zr.SevenZipFile(archive_path, mode='r') as archive:\n",
    "    archive.extractall(path=destination_folder)\n",
    "\n",
    "print(f\"Extraction completed. Files are in {destination_folder}\")"
   ]
  },
  {
   "cell_type": "code",
   "execution_count": 50,
   "id": "49c42f97-6928-4447-ba69-145936f21019",
   "metadata": {},
   "outputs": [
    {
     "name": "stdout",
     "output_type": "stream",
     "text": [
      "Current Working Directory: /teamspace/studios/this_studio\n",
      "Contents: ['.bashrc', '.cache', '.docker', '.idea', '.ipython', '.lightning_studio', '.lightningignore', '.sudo_as_admin_successful', '.vimrc', '.vscode', '.zcompdump', '.zsh_history', '.zshrc', 'DL_HW1.ipynb', 'Data.7z', 'examples', 'images', 'original_model.onnx', 'savedModel', 'scripted_model.onnx', '.jupyter', '.ssh', '.hushlogin', '.local', '.gitconfig', '.config', '.condarc', '.nv', '.oh-my-zsh', '.profile']\n"
     ]
    }
   ],
   "source": [
    "import os\n",
    "\n",
    "# List all files and directories in the current working directory\n",
    "print(\"Current Working Directory:\", os.getcwd())\n",
    "print(\"Contents:\", os.listdir(os.getcwd()))"
   ]
  },
  {
   "cell_type": "code",
   "execution_count": 51,
   "id": "b21ab17b-55ef-4981-aec0-60f8add23cef",
   "metadata": {},
   "outputs": [
    {
     "name": "stdout",
     "output_type": "stream",
     "text": [
      "No of total categories : 102\n",
      "Category: yin_yang, Number of images: 60\n",
      "Category: flamingo_head, Number of images: 45\n",
      "Category: llama, Number of images: 78\n",
      "Category: chandelier, Number of images: 107\n",
      "Category: schooner, Number of images: 63\n",
      "Category: octopus, Number of images: 35\n",
      "Category: pagoda, Number of images: 47\n",
      "Category: stop_sign, Number of images: 64\n",
      "Category: soccer_ball, Number of images: 64\n",
      "Category: helicopter, Number of images: 88\n",
      "Category: gerenuk, Number of images: 34\n",
      "Category: pigeon, Number of images: 45\n",
      "Category: Motorbikes, Number of images: 798\n",
      "Category: butterfly, Number of images: 91\n",
      "Category: umbrella, Number of images: 75\n",
      "Category: laptop, Number of images: 81\n",
      "Category: ketch, Number of images: 114\n",
      "Category: crayfish, Number of images: 70\n",
      "Category: tick, Number of images: 49\n",
      "Category: cougar_body, Number of images: 47\n",
      "Category: camera, Number of images: 50\n",
      "Category: brontosaurus, Number of images: 43\n",
      "Category: garfield, Number of images: 34\n",
      "Category: cup, Number of images: 57\n",
      "Category: platypus, Number of images: 34\n",
      "Category: Faces, Number of images: 435\n",
      "Category: ferry, Number of images: 67\n",
      "Category: BACKGROUND_Google, Number of images: 467\n",
      "Category: mayfly, Number of images: 40\n",
      "Category: accordion, Number of images: 55\n",
      "Category: wild_cat, Number of images: 34\n",
      "Category: kangaroo, Number of images: 86\n",
      "Category: Leopards, Number of images: 200\n",
      "Category: brain, Number of images: 98\n",
      "Category: bonsai, Number of images: 128\n",
      "Category: grand_piano, Number of images: 99\n",
      "Category: revolver, Number of images: 82\n",
      "Category: beaver, Number of images: 46\n",
      "Category: dalmatian, Number of images: 67\n",
      "Category: lobster, Number of images: 41\n",
      "Category: crab, Number of images: 73\n",
      "Category: watch, Number of images: 239\n",
      "Category: anchor, Number of images: 42\n",
      "Category: wheelchair, Number of images: 59\n",
      "Category: ewer, Number of images: 85\n",
      "Category: stegosaurus, Number of images: 59\n",
      "Category: gramophone, Number of images: 51\n",
      "Category: starfish, Number of images: 86\n",
      "Category: metronome, Number of images: 32\n",
      "Category: cellphone, Number of images: 59\n",
      "Category: bass, Number of images: 54\n",
      "Category: dollar_bill, Number of images: 52\n",
      "Category: snoopy, Number of images: 35\n",
      "Category: sea_horse, Number of images: 57\n",
      "Category: joshua_tree, Number of images: 64\n",
      "Category: water_lilly, Number of images: 37\n",
      "Category: mandolin, Number of images: 43\n",
      "Category: ceiling_fan, Number of images: 47\n",
      "Category: ant, Number of images: 42\n",
      "Category: lotus, Number of images: 66\n",
      "Category: binocular, Number of images: 33\n",
      "Category: strawberry, Number of images: 35\n",
      "Category: minaret, Number of images: 76\n",
      "Category: buddha, Number of images: 85\n",
      "Category: scissors, Number of images: 39\n",
      "Category: dragonfly, Number of images: 68\n",
      "Category: electric_guitar, Number of images: 75\n",
      "Category: euphonium, Number of images: 64\n",
      "Category: rooster, Number of images: 49\n",
      "Category: Faces_easy, Number of images: 435\n",
      "Category: cannon, Number of images: 43\n",
      "Category: pyramid, Number of images: 57\n",
      "Category: elephant, Number of images: 64\n",
      "Category: wrench, Number of images: 39\n",
      "Category: stapler, Number of images: 45\n",
      "Category: scorpion, Number of images: 84\n",
      "Category: hedgehog, Number of images: 54\n",
      "Category: rhino, Number of images: 59\n",
      "Category: crocodile_head, Number of images: 51\n",
      "Category: chair, Number of images: 62\n",
      "Category: lamp, Number of images: 61\n",
      "Category: hawksbill, Number of images: 100\n",
      "Category: inline_skate, Number of images: 31\n",
      "Category: okapi, Number of images: 39\n",
      "Category: barrel, Number of images: 47\n",
      "Category: airplanes, Number of images: 800\n",
      "Category: panda, Number of images: 38\n",
      "Category: crocodile, Number of images: 50\n",
      "Category: sunflower, Number of images: 85\n",
      "Category: pizza, Number of images: 53\n",
      "Category: headphone, Number of images: 42\n",
      "Category: dolphin, Number of images: 65\n",
      "Category: ibis, Number of images: 80\n",
      "Category: menorah, Number of images: 87\n",
      "Category: flamingo, Number of images: 67\n",
      "Category: windsor_chair, Number of images: 56\n",
      "Category: cougar_face, Number of images: 69\n",
      "Category: trilobite, Number of images: 86\n",
      "Category: saxophone, Number of images: 40\n",
      "Category: emu, Number of images: 53\n",
      "Category: nautilus, Number of images: 55\n",
      "Category: car_side, Number of images: 123\n"
     ]
    }
   ],
   "source": [
    "\n",
    "dataset_path = \"/teamspace/studios/this_studio/images/Data\"\n",
    "# List all subfolders (categories) in the dataset\n",
    "categories = os.listdir(dataset_path)\n",
    "\n",
    "print(f\"No of total categories : {len(categories)}\")\n",
    "\n",
    "# Initialize a dictionary to store the number of images in each category\n",
    "image_counts = {}\n",
    "\n",
    "# Loop through each category and count the images\n",
    "for category in categories:\n",
    "    category_path = os.path.join(dataset_path, category)\n",
    "\n",
    "    if os.path.isdir(category_path): \n",
    "        # List all files in the category folder and filter out non-image files \n",
    "        image_files = [f for f in os.listdir(category_path) if f.endswith(('.jpg', '.jpeg', '.png', '.bmp', '.gif'))]\n",
    "        image_counts[category] = len(image_files)\n",
    "\n",
    "# Display the number of images in each category\n",
    "for category, count in image_counts.items():\n",
    "    print(f\"Category: {category}, Number of images: {count}\")\n",
    "\n",
    "\n",
    "\n",
    "\n",
    "\n"
   ]
  },
  {
   "cell_type": "code",
   "execution_count": 52,
   "id": "f3625394-5b76-4f1d-8c91-ab33941cc079",
   "metadata": {},
   "outputs": [
    {
     "name": "stdout",
     "output_type": "stream",
     "text": [
      "Dataset has been split into train and val sets.\n"
     ]
    }
   ],
   "source": [
    "import shutil\n",
    "from sklearn.model_selection import train_test_split\n",
    "\n",
    "\n",
    "# Create directories for train and val sets under each category folder\n",
    "for category in categories:\n",
    "    os.makedirs(os.path.join(dataset_path, \"train\", category), exist_ok=True)\n",
    "    os.makedirs(os.path.join(dataset_path, \"val\", category), exist_ok=True)\n",
    "\n",
    "# Split images for each category into train and val\n",
    "for category in categories:\n",
    "    category_path = os.path.join(dataset_path, category)\n",
    "\n",
    "    if os.path.isdir(category_path): \n",
    "        # Get all images in this category\n",
    "        all_images = [os.path.join(category_path, f) for f in os.listdir(category_path) if f.endswith(('.jpg', '.jpeg', '.png', '.bmp', '.gif'))]\n",
    "\n",
    "        # Split the images into train and val\n",
    "        train_images, val_images = train_test_split(all_images, test_size=0.2, random_state=42)\n",
    "\n",
    "        # Move images to the respective directories\n",
    "        for img in train_images:\n",
    "            shutil.move(img, os.path.join(dataset_path, \"train\", category, os.path.basename(img)))\n",
    "        for img in val_images:\n",
    "            shutil.move(img, os.path.join(dataset_path, \"val\", category, os.path.basename(img)))\n",
    "\n",
    "print(\"Dataset has been split into train and val sets.\")"
   ]
  },
  {
   "cell_type": "code",
   "execution_count": 53,
   "id": "1166148a-bd3e-4c0a-94c9-3e71b96109f7",
   "metadata": {},
   "outputs": [
    {
     "name": "stdout",
     "output_type": "stream",
     "text": [
      "Requirement already satisfied: timm in /system/conda/miniconda3/envs/cloudspace/lib/python3.10/site-packages (1.0.11)\n",
      "Requirement already satisfied: torch in /system/conda/miniconda3/envs/cloudspace/lib/python3.10/site-packages (from timm) (2.2.1+cu121)\n",
      "Requirement already satisfied: torchvision in /system/conda/miniconda3/envs/cloudspace/lib/python3.10/site-packages (from timm) (0.17.1+cu121)\n",
      "Requirement already satisfied: pyyaml in /system/conda/miniconda3/envs/cloudspace/lib/python3.10/site-packages (from timm) (6.0.2)\n",
      "Requirement already satisfied: huggingface_hub in /system/conda/miniconda3/envs/cloudspace/lib/python3.10/site-packages (from timm) (0.26.2)\n",
      "Requirement already satisfied: safetensors in /system/conda/miniconda3/envs/cloudspace/lib/python3.10/site-packages (from timm) (0.4.5)\n",
      "Requirement already satisfied: filelock in /system/conda/miniconda3/envs/cloudspace/lib/python3.10/site-packages (from huggingface_hub->timm) (3.16.1)\n",
      "Requirement already satisfied: fsspec>=2023.5.0 in /system/conda/miniconda3/envs/cloudspace/lib/python3.10/site-packages (from huggingface_hub->timm) (2024.10.0)\n",
      "Requirement already satisfied: packaging>=20.9 in /system/conda/miniconda3/envs/cloudspace/lib/python3.10/site-packages (from huggingface_hub->timm) (24.1)\n",
      "Requirement already satisfied: requests in /system/conda/miniconda3/envs/cloudspace/lib/python3.10/site-packages (from huggingface_hub->timm) (2.32.3)\n",
      "Requirement already satisfied: tqdm>=4.42.1 in /system/conda/miniconda3/envs/cloudspace/lib/python3.10/site-packages (from huggingface_hub->timm) (4.66.6)\n",
      "Requirement already satisfied: typing-extensions>=3.7.4.3 in /system/conda/miniconda3/envs/cloudspace/lib/python3.10/site-packages (from huggingface_hub->timm) (4.12.2)\n",
      "Requirement already satisfied: sympy in /system/conda/miniconda3/envs/cloudspace/lib/python3.10/site-packages (from torch->timm) (1.13.3)\n",
      "Requirement already satisfied: networkx in /system/conda/miniconda3/envs/cloudspace/lib/python3.10/site-packages (from torch->timm) (3.4.2)\n",
      "Requirement already satisfied: jinja2 in /system/conda/miniconda3/envs/cloudspace/lib/python3.10/site-packages (from torch->timm) (3.1.4)\n",
      "Requirement already satisfied: nvidia-cuda-nvrtc-cu12==12.1.105 in /system/conda/miniconda3/envs/cloudspace/lib/python3.10/site-packages (from torch->timm) (12.1.105)\n",
      "Requirement already satisfied: nvidia-cuda-runtime-cu12==12.1.105 in /system/conda/miniconda3/envs/cloudspace/lib/python3.10/site-packages (from torch->timm) (12.1.105)\n",
      "Requirement already satisfied: nvidia-cuda-cupti-cu12==12.1.105 in /system/conda/miniconda3/envs/cloudspace/lib/python3.10/site-packages (from torch->timm) (12.1.105)\n",
      "Requirement already satisfied: nvidia-cudnn-cu12==8.9.2.26 in /system/conda/miniconda3/envs/cloudspace/lib/python3.10/site-packages (from torch->timm) (8.9.2.26)\n",
      "Requirement already satisfied: nvidia-cublas-cu12==12.1.3.1 in /system/conda/miniconda3/envs/cloudspace/lib/python3.10/site-packages (from torch->timm) (12.1.3.1)\n",
      "Requirement already satisfied: nvidia-cufft-cu12==11.0.2.54 in /system/conda/miniconda3/envs/cloudspace/lib/python3.10/site-packages (from torch->timm) (11.0.2.54)\n",
      "Requirement already satisfied: nvidia-curand-cu12==10.3.2.106 in /system/conda/miniconda3/envs/cloudspace/lib/python3.10/site-packages (from torch->timm) (10.3.2.106)\n",
      "Requirement already satisfied: nvidia-cusolver-cu12==11.4.5.107 in /system/conda/miniconda3/envs/cloudspace/lib/python3.10/site-packages (from torch->timm) (11.4.5.107)\n",
      "Requirement already satisfied: nvidia-cusparse-cu12==12.1.0.106 in /system/conda/miniconda3/envs/cloudspace/lib/python3.10/site-packages (from torch->timm) (12.1.0.106)\n",
      "Requirement already satisfied: nvidia-nccl-cu12==2.19.3 in /system/conda/miniconda3/envs/cloudspace/lib/python3.10/site-packages (from torch->timm) (2.19.3)\n",
      "Requirement already satisfied: nvidia-nvtx-cu12==12.1.105 in /system/conda/miniconda3/envs/cloudspace/lib/python3.10/site-packages (from torch->timm) (12.1.105)\n",
      "Requirement already satisfied: triton==2.2.0 in /system/conda/miniconda3/envs/cloudspace/lib/python3.10/site-packages (from torch->timm) (2.2.0)\n",
      "Requirement already satisfied: nvidia-nvjitlink-cu12 in /system/conda/miniconda3/envs/cloudspace/lib/python3.10/site-packages (from nvidia-cusolver-cu12==11.4.5.107->torch->timm) (12.6.77)\n",
      "Requirement already satisfied: numpy in /system/conda/miniconda3/envs/cloudspace/lib/python3.10/site-packages (from torchvision->timm) (1.26.4)\n",
      "Requirement already satisfied: pillow!=8.3.*,>=5.3.0 in /system/conda/miniconda3/envs/cloudspace/lib/python3.10/site-packages (from torchvision->timm) (11.0.0)\n",
      "Requirement already satisfied: MarkupSafe>=2.0 in /system/conda/miniconda3/envs/cloudspace/lib/python3.10/site-packages (from jinja2->torch->timm) (3.0.2)\n",
      "Requirement already satisfied: charset-normalizer<4,>=2 in /system/conda/miniconda3/envs/cloudspace/lib/python3.10/site-packages (from requests->huggingface_hub->timm) (3.4.0)\n",
      "Requirement already satisfied: idna<4,>=2.5 in /system/conda/miniconda3/envs/cloudspace/lib/python3.10/site-packages (from requests->huggingface_hub->timm) (3.10)\n",
      "Requirement already satisfied: urllib3<3,>=1.21.1 in /system/conda/miniconda3/envs/cloudspace/lib/python3.10/site-packages (from requests->huggingface_hub->timm) (2.2.3)\n",
      "Requirement already satisfied: certifi>=2017.4.17 in /system/conda/miniconda3/envs/cloudspace/lib/python3.10/site-packages (from requests->huggingface_hub->timm) (2024.8.30)\n",
      "Requirement already satisfied: mpmath<1.4,>=1.1.0 in /system/conda/miniconda3/envs/cloudspace/lib/python3.10/site-packages (from sympy->torch->timm) (1.3.0)\n"
     ]
    }
   ],
   "source": [
    "!pip install timm"
   ]
  },
  {
   "cell_type": "code",
   "execution_count": 54,
   "id": "6032c7b2-b6bc-42ea-938f-715563952339",
   "metadata": {},
   "outputs": [],
   "source": [
    "import timm\n",
    "import torchvision.transforms as transforms\n",
    "from torchvision import datasets\n",
    "from torch.utils.data import DataLoader\n",
    "import matplotlib.pyplot as plt\n",
    "from torch import nn, optim\n",
    "from torch.optim.lr_scheduler import StepLR\n",
    "from timm.data import create_transform\n",
    "from tqdm import tqdm  # For progress bar\n"
   ]
  },
  {
   "cell_type": "code",
   "execution_count": 55,
   "id": "c46bb590-1ab6-43e3-b6b7-e6316a9dca2b",
   "metadata": {},
   "outputs": [],
   "source": [
    "# Data Augumentation ,the transformation with RandAugment\n",
    "train_transform = create_transform(\n",
    "    input_size=224,\n",
    "    is_training=True,\n",
    "    auto_augment='rand-m9-mstd0.5-inc1',  # RandAugment\n",
    ")\n",
    "\n",
    "\n",
    "# Transformation for validation (resize only)\n",
    "val_transform = create_transform(\n",
    "    input_size=224,\n",
    "    is_training=False\n",
    ")"
   ]
  },
  {
   "cell_type": "code",
   "execution_count": 56,
   "id": "1a348a29-8e5b-41f9-b892-cab40ba5f9eb",
   "metadata": {},
   "outputs": [],
   "source": [
    "# Define the paths for training and validation sets\n",
    "train_dataset_path = os.path.join(dataset_path, \"train\")  \n",
    "val_dataset_path = os.path.join(dataset_path, \"val\")\n",
    "\n",
    "# Load datasets with augmentation for training and basic transforms for validation\n",
    "train_dataset = datasets.ImageFolder(root=train_dataset_path, transform=train_transform)\n",
    "val_dataset = datasets.ImageFolder(root=val_dataset_path, transform=val_transform)\n",
    "\n",
    "# Create DataLoaders\n",
    "batch_size = 32\n",
    "train_loader = DataLoader(train_dataset, batch_size=batch_size, shuffle=True)\n",
    "val_loader = DataLoader(val_dataset, batch_size=batch_size, shuffle=False)"
   ]
  },
  {
   "cell_type": "markdown",
   "id": "55b4674b",
   "metadata": {},
   "source": [
    "STEP3 - Define Model ,Loss function , optimizers and schedulers"
   ]
  },
  {
   "cell_type": "code",
   "execution_count": 57,
   "id": "e1c9652c-0c91-43ff-bc88-f0992f9c5756",
   "metadata": {},
   "outputs": [],
   "source": [
    "# Load a pretrained model from timm\n",
    "model = timm.create_model('resnet50', pretrained=True, num_classes=len(categories))\n",
    "model = model.to(\"cuda\" if torch.cuda.is_available() else \"cpu\")"
   ]
  },
  {
   "cell_type": "code",
   "execution_count": 58,
   "id": "e503944b-5cb8-4ae8-b5e8-36f20c8e81c7",
   "metadata": {},
   "outputs": [],
   "source": [
    "# Define loss function\n",
    "criterion = nn.CrossEntropyLoss()\n",
    "\n",
    "# Define optimizer and learning rate scheduler\n",
    "# optimizer = optim.Adam(model.parameters(), lr=0.001)\n",
    "# optimizer = optim.SGD(model.parameters(), lr=0.01, momentum=0.9, weight_decay=5e-4)\n",
    "optimizer = optim.AdamW(model.parameters(), lr=0.001, weight_decay=1e-4)\n",
    "scheduler = StepLR(optimizer, step_size=10, gamma=0.1)  # Decay LR by 0.1 every 10 epochs\n"
   ]
  },
  {
   "cell_type": "markdown",
   "id": "b760822e",
   "metadata": {},
   "source": [
    "STEP 4 - Model Training and Testing"
   ]
  },
  {
   "cell_type": "code",
   "execution_count": 59,
   "id": "842cf16f-f30c-4a7c-a3e3-505f8e38017c",
   "metadata": {
    "scrolled": true
   },
   "outputs": [
    {
     "name": "stderr",
     "output_type": "stream",
     "text": [
      "Training Epoch 1/20: 100%|██████████| 228/228 [01:29<00:00,  2.54it/s]\n"
     ]
    },
    {
     "name": "stdout",
     "output_type": "stream",
     "text": [
      "Epoch 1/20, Train Loss: 2.0455, Train Acc: 51.84, Val Loss: 0.5443, Val Acc: 82.14\n"
     ]
    },
    {
     "name": "stderr",
     "output_type": "stream",
     "text": [
      "Training Epoch 2/20: 100%|██████████| 228/228 [01:26<00:00,  2.65it/s]\n"
     ]
    },
    {
     "name": "stdout",
     "output_type": "stream",
     "text": [
      "Epoch 2/20, Train Loss: 1.0178, Train Acc: 73.20, Val Loss: 0.3804, Val Acc: 88.30\n"
     ]
    },
    {
     "name": "stderr",
     "output_type": "stream",
     "text": [
      "Training Epoch 3/20: 100%|██████████| 228/228 [01:25<00:00,  2.66it/s]\n"
     ]
    },
    {
     "name": "stdout",
     "output_type": "stream",
     "text": [
      "Epoch 3/20, Train Loss: 0.8557, Train Acc: 77.62, Val Loss: 0.3468, Val Acc: 89.38\n"
     ]
    },
    {
     "name": "stderr",
     "output_type": "stream",
     "text": [
      "Training Epoch 4/20: 100%|██████████| 228/228 [01:25<00:00,  2.66it/s]\n"
     ]
    },
    {
     "name": "stdout",
     "output_type": "stream",
     "text": [
      "Epoch 4/20, Train Loss: 0.7477, Train Acc: 79.57, Val Loss: 0.3172, Val Acc: 89.70\n"
     ]
    },
    {
     "name": "stderr",
     "output_type": "stream",
     "text": [
      "Training Epoch 5/20: 100%|██████████| 228/228 [01:25<00:00,  2.66it/s]\n"
     ]
    },
    {
     "name": "stdout",
     "output_type": "stream",
     "text": [
      "Epoch 5/20, Train Loss: 0.7133, Train Acc: 80.74, Val Loss: 0.3277, Val Acc: 88.73\n"
     ]
    },
    {
     "name": "stderr",
     "output_type": "stream",
     "text": [
      "Training Epoch 6/20: 100%|██████████| 228/228 [01:25<00:00,  2.67it/s]\n"
     ]
    },
    {
     "name": "stdout",
     "output_type": "stream",
     "text": [
      "Epoch 6/20, Train Loss: 0.6827, Train Acc: 81.28, Val Loss: 0.3282, Val Acc: 90.99\n"
     ]
    },
    {
     "name": "stderr",
     "output_type": "stream",
     "text": [
      "Training Epoch 7/20: 100%|██████████| 228/228 [01:25<00:00,  2.68it/s]\n"
     ]
    },
    {
     "name": "stdout",
     "output_type": "stream",
     "text": [
      "Epoch 7/20, Train Loss: 0.6362, Train Acc: 82.80, Val Loss: 0.3106, Val Acc: 91.26\n"
     ]
    },
    {
     "name": "stderr",
     "output_type": "stream",
     "text": [
      "Training Epoch 8/20: 100%|██████████| 228/228 [01:25<00:00,  2.67it/s]\n"
     ]
    },
    {
     "name": "stdout",
     "output_type": "stream",
     "text": [
      "Epoch 8/20, Train Loss: 0.5923, Train Acc: 84.09, Val Loss: 0.3073, Val Acc: 91.26\n"
     ]
    },
    {
     "name": "stderr",
     "output_type": "stream",
     "text": [
      "Training Epoch 9/20: 100%|██████████| 228/228 [01:25<00:00,  2.67it/s]\n"
     ]
    },
    {
     "name": "stdout",
     "output_type": "stream",
     "text": [
      "Epoch 9/20, Train Loss: 0.5766, Train Acc: 84.24, Val Loss: 0.2914, Val Acc: 91.15\n"
     ]
    },
    {
     "name": "stderr",
     "output_type": "stream",
     "text": [
      "Training Epoch 10/20: 100%|██████████| 228/228 [01:25<00:00,  2.67it/s]\n"
     ]
    },
    {
     "name": "stdout",
     "output_type": "stream",
     "text": [
      "Epoch 10/20, Train Loss: 0.5601, Train Acc: 84.82, Val Loss: 0.2927, Val Acc: 91.85\n"
     ]
    },
    {
     "name": "stderr",
     "output_type": "stream",
     "text": [
      "Training Epoch 11/20: 100%|██████████| 228/228 [01:25<00:00,  2.68it/s]\n"
     ]
    },
    {
     "name": "stdout",
     "output_type": "stream",
     "text": [
      "Epoch 11/20, Train Loss: 0.4744, Train Acc: 86.98, Val Loss: 0.2301, Val Acc: 93.62\n"
     ]
    },
    {
     "name": "stderr",
     "output_type": "stream",
     "text": [
      "Training Epoch 12/20: 100%|██████████| 228/228 [01:25<00:00,  2.68it/s]\n"
     ]
    },
    {
     "name": "stdout",
     "output_type": "stream",
     "text": [
      "Epoch 12/20, Train Loss: 0.4044, Train Acc: 88.63, Val Loss: 0.2213, Val Acc: 93.51\n"
     ]
    },
    {
     "name": "stderr",
     "output_type": "stream",
     "text": [
      "Training Epoch 13/20: 100%|██████████| 228/228 [01:25<00:00,  2.68it/s]\n"
     ]
    },
    {
     "name": "stdout",
     "output_type": "stream",
     "text": [
      "Epoch 13/20, Train Loss: 0.3860, Train Acc: 89.34, Val Loss: 0.2074, Val Acc: 94.05\n"
     ]
    },
    {
     "name": "stderr",
     "output_type": "stream",
     "text": [
      "Training Epoch 14/20: 100%|██████████| 228/228 [01:25<00:00,  2.66it/s]\n"
     ]
    },
    {
     "name": "stdout",
     "output_type": "stream",
     "text": [
      "Epoch 14/20, Train Loss: 0.3674, Train Acc: 89.88, Val Loss: 0.2211, Val Acc: 93.67\n"
     ]
    },
    {
     "name": "stderr",
     "output_type": "stream",
     "text": [
      "Training Epoch 15/20: 100%|██████████| 228/228 [01:25<00:00,  2.66it/s]\n"
     ]
    },
    {
     "name": "stdout",
     "output_type": "stream",
     "text": [
      "Epoch 15/20, Train Loss: 0.3534, Train Acc: 90.44, Val Loss: 0.2087, Val Acc: 93.62\n"
     ]
    },
    {
     "name": "stderr",
     "output_type": "stream",
     "text": [
      "Training Epoch 16/20: 100%|██████████| 228/228 [01:25<00:00,  2.68it/s]\n"
     ]
    },
    {
     "name": "stdout",
     "output_type": "stream",
     "text": [
      "Epoch 16/20, Train Loss: 0.3638, Train Acc: 89.99, Val Loss: 0.2175, Val Acc: 94.05\n"
     ]
    },
    {
     "name": "stderr",
     "output_type": "stream",
     "text": [
      "Training Epoch 17/20: 100%|██████████| 228/228 [01:25<00:00,  2.66it/s]\n"
     ]
    },
    {
     "name": "stdout",
     "output_type": "stream",
     "text": [
      "Epoch 17/20, Train Loss: 0.3103, Train Acc: 91.24, Val Loss: 0.2101, Val Acc: 94.31\n"
     ]
    },
    {
     "name": "stderr",
     "output_type": "stream",
     "text": [
      "Training Epoch 18/20: 100%|██████████| 228/228 [01:25<00:00,  2.67it/s]\n"
     ]
    },
    {
     "name": "stdout",
     "output_type": "stream",
     "text": [
      "Epoch 18/20, Train Loss: 0.3175, Train Acc: 91.21, Val Loss: 0.2064, Val Acc: 94.15\n"
     ]
    },
    {
     "name": "stderr",
     "output_type": "stream",
     "text": [
      "Training Epoch 19/20: 100%|██████████| 228/228 [01:25<00:00,  2.66it/s]\n"
     ]
    },
    {
     "name": "stdout",
     "output_type": "stream",
     "text": [
      "Epoch 19/20, Train Loss: 0.3238, Train Acc: 90.76, Val Loss: 0.2064, Val Acc: 93.78\n"
     ]
    },
    {
     "name": "stderr",
     "output_type": "stream",
     "text": [
      "Training Epoch 20/20: 100%|██████████| 228/228 [01:25<00:00,  2.65it/s]\n"
     ]
    },
    {
     "name": "stdout",
     "output_type": "stream",
     "text": [
      "Epoch 20/20, Train Loss: 0.3206, Train Acc: 90.85, Val Loss: 0.2042, Val Acc: 93.94\n"
     ]
    }
   ],
   "source": [
    "num_epochs = 20\n",
    "device = torch.device(\"cuda\" if torch.cuda.is_available() else \"cpu\")\n",
    "train_loss, val_loss, train_acc, val_acc = [], [], [], []\n",
    "\n",
    "for epoch in range(num_epochs):\n",
    "    model.train()\n",
    "    running_loss = 0.0\n",
    "    correct = 0\n",
    "    total = 0\n",
    "\n",
    "    for inputs, labels in tqdm(train_loader, desc=f\"Training Epoch {epoch+1}/{num_epochs}\"):\n",
    "        inputs, labels = inputs.to(device), labels.to(device)\n",
    "        \n",
    "        optimizer.zero_grad()\n",
    "        outputs = model(inputs)\n",
    "        loss = criterion(outputs, labels)\n",
    "        loss.backward()\n",
    "        optimizer.step()\n",
    "\n",
    "        running_loss += loss.item()\n",
    "        _, predicted = outputs.max(1)\n",
    "        total += labels.size(0)\n",
    "        correct += predicted.eq(labels).sum().item()\n",
    "\n",
    "    epoch_loss = running_loss / len(train_loader)\n",
    "    epoch_acc = 100. * correct / total\n",
    "    train_loss.append(epoch_loss)\n",
    "    train_acc.append(epoch_acc)\n",
    "\n",
    "    # Validation\n",
    "    model.eval()\n",
    "    running_val_loss = 0.0\n",
    "    correct_val = 0\n",
    "    total_val = 0\n",
    "\n",
    "    with torch.no_grad():\n",
    "        for inputs, labels in val_loader:\n",
    "            inputs, labels = inputs.to(device), labels.to(device)\n",
    "            outputs = model(inputs)\n",
    "            loss = criterion(outputs, labels)\n",
    "\n",
    "            running_val_loss += loss.item()\n",
    "            _, predicted = outputs.max(1)\n",
    "            total_val += labels.size(0)\n",
    "            correct_val += predicted.eq(labels).sum().item()\n",
    "\n",
    "    val_loss.append(running_val_loss / len(val_loader))\n",
    "    val_acc.append(100. * correct_val / total_val)\n",
    "\n",
    "    print(f\"Epoch {epoch+1}/{num_epochs}, Train Loss: {epoch_loss:.4f}, Train Acc: {epoch_acc:.2f}, Val Loss: {val_loss[-1]:.4f}, Val Acc: {val_acc[-1]:.2f}\")\n",
    "\n",
    "    scheduler.step()\n"
   ]
  },
  {
   "cell_type": "markdown",
   "id": "6268661c",
   "metadata": {},
   "source": [
    "STEP 5 - Plot Loss and accuracy over epochs"
   ]
  },
  {
   "cell_type": "code",
   "execution_count": 60,
   "id": "17358270-afd9-41c4-8edb-ee8100c13d73",
   "metadata": {},
   "outputs": [
    {
     "data": {
      "image/png": "[encoded data removed]",
      "text/plain": [
       "<Figure size 1200x500 with 2 Axes>"
      ]
     },
     "metadata": {},
     "output_type": "display_data"
    },
    {
     "name": "stdout",
     "output_type": "stream",
     "text": [
      "Average Inference Latency: 5.90 ms\n"
     ]
    }
   ],
   "source": [
    "# Plot accuracy and loss over epochs\n",
    "plt.figure(figsize=(12, 5))\n",
    "\n",
    "plt.subplot(1, 2, 1)\n",
    "plt.plot(train_loss, label='Train Loss')\n",
    "plt.plot(val_loss, label='Validation Loss')\n",
    "plt.xlabel('Epochs')\n",
    "plt.ylabel('Loss')\n",
    "plt.legend()\n",
    "plt.title('Loss Over Epochs')\n",
    "\n",
    "plt.subplot(1, 2, 2)\n",
    "plt.plot(train_acc, label='Train Accuracy')\n",
    "plt.plot(val_acc, label='Validation Accuracy')\n",
    "plt.xlabel('Epochs')\n",
    "plt.ylabel('Accuracy (%)')\n",
    "plt.legend()\n",
    "plt.title('Accuracy Over Epochs')\n",
    "\n",
    "plt.show()\n",
    "\n",
    "# Check latency (inference time)\n",
    "import time\n",
    "sample_input = torch.rand(1, 3, 224, 224).to(device)\n",
    "model.eval()\n",
    "with torch.no_grad():\n",
    "    start_time = time.time()\n",
    "    for _ in range(100):\n",
    "        _ = model(sample_input)\n",
    "    latency = (time.time() - start_time) / 100  # Average over 100 runs\n",
    "print(f\"Average Inference Latency: {latency * 1000:.2f} ms\")\n"
   ]
  },
  {
   "cell_type": "markdown",
   "id": "442ab49f",
   "metadata": {},
   "source": [
    "optimized in data loaders to check accuracy changes/improvement adding number of workers and pin-memory"
   ]
  },
  {
   "cell_type": "code",
   "execution_count": 61,
   "id": "7e506ea6-658c-4bd7-983f-9ea076a339df",
   "metadata": {},
   "outputs": [
    {
     "name": "stderr",
     "output_type": "stream",
     "text": [
      "Training Epoch 1/20: 100%|██████████| 228/228 [00:27<00:00,  8.26it/s]\n"
     ]
    },
    {
     "name": "stdout",
     "output_type": "stream",
     "text": [
      "Epoch 1/20, Train Loss: 0.3215, Train Acc: 90.93, Val Loss: 0.2008, Val Acc: 93.99\n"
     ]
    },
    {
     "name": "stderr",
     "output_type": "stream",
     "text": [
      "Training Epoch 2/20: 100%|██████████| 228/228 [00:27<00:00,  8.24it/s]\n"
     ]
    },
    {
     "name": "stdout",
     "output_type": "stream",
     "text": [
      "Epoch 2/20, Train Loss: 0.3147, Train Acc: 91.26, Val Loss: 0.2001, Val Acc: 94.21\n"
     ]
    },
    {
     "name": "stderr",
     "output_type": "stream",
     "text": [
      "Training Epoch 3/20: 100%|██████████| 228/228 [00:27<00:00,  8.23it/s]\n"
     ]
    },
    {
     "name": "stdout",
     "output_type": "stream",
     "text": [
      "Epoch 3/20, Train Loss: 0.2895, Train Acc: 92.06, Val Loss: 0.1948, Val Acc: 94.21\n"
     ]
    },
    {
     "name": "stderr",
     "output_type": "stream",
     "text": [
      "Training Epoch 4/20: 100%|██████████| 228/228 [00:27<00:00,  8.21it/s]\n"
     ]
    },
    {
     "name": "stdout",
     "output_type": "stream",
     "text": [
      "Epoch 4/20, Train Loss: 0.3017, Train Acc: 91.76, Val Loss: 0.1985, Val Acc: 93.83\n"
     ]
    },
    {
     "name": "stderr",
     "output_type": "stream",
     "text": [
      "Training Epoch 5/20: 100%|██████████| 228/228 [00:27<00:00,  8.21it/s]\n"
     ]
    },
    {
     "name": "stdout",
     "output_type": "stream",
     "text": [
      "Epoch 5/20, Train Loss: 0.3054, Train Acc: 91.25, Val Loss: 0.1954, Val Acc: 94.05\n"
     ]
    },
    {
     "name": "stderr",
     "output_type": "stream",
     "text": [
      "Training Epoch 6/20: 100%|██████████| 228/228 [00:27<00:00,  8.23it/s]\n"
     ]
    },
    {
     "name": "stdout",
     "output_type": "stream",
     "text": [
      "Epoch 6/20, Train Loss: 0.3061, Train Acc: 91.52, Val Loss: 0.1938, Val Acc: 94.21\n"
     ]
    },
    {
     "name": "stderr",
     "output_type": "stream",
     "text": [
      "Training Epoch 7/20: 100%|██████████| 228/228 [00:27<00:00,  8.23it/s]\n"
     ]
    },
    {
     "name": "stdout",
     "output_type": "stream",
     "text": [
      "Epoch 7/20, Train Loss: 0.3173, Train Acc: 91.28, Val Loss: 0.1943, Val Acc: 94.05\n"
     ]
    },
    {
     "name": "stderr",
     "output_type": "stream",
     "text": [
      "Training Epoch 8/20: 100%|██████████| 228/228 [00:27<00:00,  8.23it/s]\n"
     ]
    },
    {
     "name": "stdout",
     "output_type": "stream",
     "text": [
      "Epoch 8/20, Train Loss: 0.3143, Train Acc: 91.54, Val Loss: 0.1888, Val Acc: 94.15\n"
     ]
    },
    {
     "name": "stderr",
     "output_type": "stream",
     "text": [
      "Training Epoch 9/20: 100%|██████████| 228/228 [00:27<00:00,  8.23it/s]\n"
     ]
    },
    {
     "name": "stdout",
     "output_type": "stream",
     "text": [
      "Epoch 9/20, Train Loss: 0.2932, Train Acc: 91.50, Val Loss: 0.1896, Val Acc: 94.26\n"
     ]
    },
    {
     "name": "stderr",
     "output_type": "stream",
     "text": [
      "Training Epoch 10/20: 100%|██████████| 228/228 [00:27<00:00,  8.21it/s]\n"
     ]
    },
    {
     "name": "stdout",
     "output_type": "stream",
     "text": [
      "Epoch 10/20, Train Loss: 0.3099, Train Acc: 91.61, Val Loss: 0.1894, Val Acc: 94.37\n"
     ]
    },
    {
     "name": "stderr",
     "output_type": "stream",
     "text": [
      "Training Epoch 11/20: 100%|██████████| 228/228 [00:27<00:00,  8.22it/s]\n"
     ]
    },
    {
     "name": "stdout",
     "output_type": "stream",
     "text": [
      "Epoch 11/20, Train Loss: 0.2888, Train Acc: 91.74, Val Loss: 0.1952, Val Acc: 94.10\n"
     ]
    },
    {
     "name": "stderr",
     "output_type": "stream",
     "text": [
      "Training Epoch 12/20: 100%|██████████| 228/228 [00:27<00:00,  8.21it/s]\n"
     ]
    },
    {
     "name": "stdout",
     "output_type": "stream",
     "text": [
      "Epoch 12/20, Train Loss: 0.3059, Train Acc: 91.47, Val Loss: 0.1947, Val Acc: 94.37\n"
     ]
    },
    {
     "name": "stderr",
     "output_type": "stream",
     "text": [
      "Training Epoch 13/20: 100%|██████████| 228/228 [00:27<00:00,  8.20it/s]\n"
     ]
    },
    {
     "name": "stdout",
     "output_type": "stream",
     "text": [
      "Epoch 13/20, Train Loss: 0.2986, Train Acc: 91.65, Val Loss: 0.1948, Val Acc: 94.37\n"
     ]
    },
    {
     "name": "stderr",
     "output_type": "stream",
     "text": [
      "Training Epoch 14/20: 100%|██████████| 228/228 [00:27<00:00,  8.21it/s]\n"
     ]
    },
    {
     "name": "stdout",
     "output_type": "stream",
     "text": [
      "Epoch 14/20, Train Loss: 0.2857, Train Acc: 91.92, Val Loss: 0.1903, Val Acc: 94.53\n"
     ]
    },
    {
     "name": "stderr",
     "output_type": "stream",
     "text": [
      "Training Epoch 15/20: 100%|██████████| 228/228 [00:27<00:00,  8.23it/s]\n"
     ]
    },
    {
     "name": "stdout",
     "output_type": "stream",
     "text": [
      "Epoch 15/20, Train Loss: 0.3012, Train Acc: 91.90, Val Loss: 0.1949, Val Acc: 94.26\n"
     ]
    },
    {
     "name": "stderr",
     "output_type": "stream",
     "text": [
      "Training Epoch 16/20: 100%|██████████| 228/228 [00:27<00:00,  8.22it/s]\n"
     ]
    },
    {
     "name": "stdout",
     "output_type": "stream",
     "text": [
      "Epoch 16/20, Train Loss: 0.2863, Train Acc: 92.17, Val Loss: 0.1987, Val Acc: 94.21\n"
     ]
    },
    {
     "name": "stderr",
     "output_type": "stream",
     "text": [
      "Training Epoch 17/20: 100%|██████████| 228/228 [00:27<00:00,  8.22it/s]\n"
     ]
    },
    {
     "name": "stdout",
     "output_type": "stream",
     "text": [
      "Epoch 17/20, Train Loss: 0.2987, Train Acc: 91.73, Val Loss: 0.1969, Val Acc: 94.10\n"
     ]
    },
    {
     "name": "stderr",
     "output_type": "stream",
     "text": [
      "Training Epoch 18/20: 100%|██████████| 228/228 [00:27<00:00,  8.22it/s]\n"
     ]
    },
    {
     "name": "stdout",
     "output_type": "stream",
     "text": [
      "Epoch 18/20, Train Loss: 0.2802, Train Acc: 91.91, Val Loss: 0.1931, Val Acc: 94.21\n"
     ]
    },
    {
     "name": "stderr",
     "output_type": "stream",
     "text": [
      "Training Epoch 19/20: 100%|██████████| 228/228 [00:27<00:00,  8.22it/s]\n"
     ]
    },
    {
     "name": "stdout",
     "output_type": "stream",
     "text": [
      "Epoch 19/20, Train Loss: 0.2816, Train Acc: 91.87, Val Loss: 0.1936, Val Acc: 94.37\n"
     ]
    },
    {
     "name": "stderr",
     "output_type": "stream",
     "text": [
      "Training Epoch 20/20: 100%|██████████| 228/228 [00:27<00:00,  8.21it/s]\n"
     ]
    },
    {
     "name": "stdout",
     "output_type": "stream",
     "text": [
      "Epoch 20/20, Train Loss: 0.3053, Train Acc: 91.66, Val Loss: 0.1938, Val Acc: 94.10\n"
     ]
    }
   ],
   "source": [
    "from torch.cuda.amp import autocast\n",
    "use_amp = True \n",
    "\n",
    "#  **Use of Optimized DataLoader**\n",
    "# Increase num_workers for parallel data loading\n",
    "batch_size = 32\n",
    "train_loader = DataLoader(train_dataset, batch_size=batch_size, shuffle=True, num_workers=4, pin_memory=True)\n",
    "val_loader = DataLoader(val_dataset, batch_size=batch_size, shuffle=False, num_workers=4, pin_memory=True)\n",
    "\n",
    "# Use torch.no_grad() to avoid unnecessary computation of gradients during inference\n",
    "for epoch in range(num_epochs):\n",
    "    model.train()\n",
    "    running_loss = 0.0\n",
    "    correct = 0\n",
    "    total = 0\n",
    "\n",
    "    for inputs, labels in tqdm(train_loader, desc=f\"Training Epoch {epoch+1}/{num_epochs}\"):\n",
    "        inputs, labels = inputs.to(device), labels.to(device)\n",
    "\n",
    "        # Mixed precision inference\n",
    "        with autocast(enabled=use_amp):  \n",
    "            optimizer.zero_grad()\n",
    "            outputs = model(inputs)\n",
    "            loss = criterion(outputs, labels)\n",
    "\n",
    "        loss.backward()\n",
    "        optimizer.step()\n",
    "\n",
    "        running_loss += loss.item()\n",
    "        _, predicted = outputs.max(1)\n",
    "        total += labels.size(0)\n",
    "        correct += predicted.eq(labels).sum().item()\n",
    "\n",
    "    epoch_loss = running_loss / len(train_loader)\n",
    "    epoch_acc = 100. * correct / total\n",
    "    train_loss.append(epoch_loss)\n",
    "    train_acc.append(epoch_acc)\n",
    "\n",
    "    # Validation\n",
    "    model.eval()  # Set to evaluation mode to disable dropout/batchnorm\n",
    "    running_val_loss = 0.0\n",
    "    correct_val = 0\n",
    "    total_val = 0\n",
    "\n",
    "    # Disable gradient calculation for validation\n",
    "    with torch.no_grad():\n",
    "        for inputs, labels in val_loader:\n",
    "            inputs, labels = inputs.to(device), labels.to(device)\n",
    "\n",
    "            # Mixed precision inference \n",
    "            with autocast(enabled=use_amp):\n",
    "                outputs = model(inputs)\n",
    "                loss = criterion(outputs, labels)\n",
    "\n",
    "            running_val_loss += loss.item()\n",
    "            _, predicted = outputs.max(1)\n",
    "            total_val += labels.size(0)\n",
    "            correct_val += predicted.eq(labels).sum().item()\n",
    "\n",
    "    val_loss.append(running_val_loss / len(val_loader))\n",
    "    val_acc.append(100. * correct_val / total_val)\n",
    "\n",
    "    print(f\"Epoch {epoch+1}/{num_epochs}, Train Loss: {epoch_loss:.4f}, Train Acc: {epoch_acc:.2f}, Val Loss: {val_loss[-1]:.4f}, Val Acc: {val_acc[-1]:.2f}\")\n",
    "\n",
    "    scheduler.step()\n",
    "\n"
   ]
  },
  {
   "cell_type": "markdown",
   "id": "b17d47fe",
   "metadata": {},
   "source": [
    "Replotting the accuracy and Loss over epochs"
   ]
  },
  {
   "cell_type": "code",
   "execution_count": 62,
   "id": "d501acf7-72ee-4fb0-90af-dcdcb2cbebb6",
   "metadata": {},
   "outputs": [
    {
     "data": {
      "image/png": "[encoded data removed]",
      "text/plain": [
       "<Figure size 1200x500 with 2 Axes>"
      ]
     },
     "metadata": {},
     "output_type": "display_data"
    },
    {
     "name": "stdout",
     "output_type": "stream",
     "text": [
      "Average Inference Latency after using optimized data loaders: 5.86 ms\n"
     ]
    }
   ],
   "source": [
    "import matplotlib.pyplot as plt\n",
    "# RePlot accuracy and loss over epochs\n",
    "plt.figure(figsize=(12, 5))\n",
    "\n",
    "plt.subplot(1, 2, 1)\n",
    "plt.plot(train_loss, label='Train Loss')\n",
    "plt.plot(val_loss, label='Validation Loss')\n",
    "plt.xlabel('Epochs')\n",
    "plt.ylabel('Loss')\n",
    "plt.legend()\n",
    "plt.title('Loss Over Epochs')\n",
    "\n",
    "plt.subplot(1, 2, 2)\n",
    "plt.plot(train_acc, label='Train Accuracy')\n",
    "plt.plot(val_acc, label='Validation Accuracy')\n",
    "plt.xlabel('Epochs')\n",
    "plt.ylabel('Accuracy (%)')\n",
    "plt.legend()\n",
    "plt.title('Accuracy Over Epochs')\n",
    "\n",
    "plt.show()\n",
    "\n",
    "# Check latency (inference time)\n",
    "import time\n",
    "sample_input = torch.rand(1, 3, 224, 224).to(device)\n",
    "model.eval()\n",
    "with torch.no_grad():\n",
    "    start_time = time.time()\n",
    "    for _ in range(100):\n",
    "        _ = model(sample_input)\n",
    "    latency = (time.time() - start_time) / 100  # Average over 100 runs\n",
    "print(f\"Average Inference Latency after using optimized data loaders: {latency * 1000:.2f} ms\")\n"
   ]
  },
  {
   "cell_type": "markdown",
   "id": "0e220b85",
   "metadata": {},
   "source": [
    "Step 6.Save the Model"
   ]
  },
  {
   "cell_type": "code",
   "execution_count": 63,
   "id": "f5d6ec80",
   "metadata": {},
   "outputs": [],
   "source": [
    "os.makedirs('savedModel', exist_ok=True)\n",
    "filename=os.path.join('savedModel', 'modelcheckpoint.pth.tar')\n",
    "torch.save(model.state_dict(), filename)"
   ]
  },
  {
   "cell_type": "markdown",
   "id": "b1e72461",
   "metadata": {},
   "source": [
    "Model Export , Scripting and Inference optimization"
   ]
  },
  {
   "cell_type": "code",
   "execution_count": 64,
   "id": "4cc8548b",
   "metadata": {},
   "outputs": [
    {
     "name": "stdout",
     "output_type": "stream",
     "text": [
      "Requirement already satisfied: onnx in /system/conda/miniconda3/envs/cloudspace/lib/python3.10/site-packages (1.17.0)\n",
      "Requirement already satisfied: onnxruntime in /system/conda/miniconda3/envs/cloudspace/lib/python3.10/site-packages (1.20.0)\n",
      "Requirement already satisfied: numpy>=1.20 in /system/conda/miniconda3/envs/cloudspace/lib/python3.10/site-packages (from onnx) (1.26.4)\n",
      "Requirement already satisfied: protobuf>=3.20.2 in /system/conda/miniconda3/envs/cloudspace/lib/python3.10/site-packages (from onnx) (4.23.4)\n",
      "Requirement already satisfied: coloredlogs in /system/conda/miniconda3/envs/cloudspace/lib/python3.10/site-packages (from onnxruntime) (15.0.1)\n",
      "Requirement already satisfied: flatbuffers in /system/conda/miniconda3/envs/cloudspace/lib/python3.10/site-packages (from onnxruntime) (24.3.25)\n",
      "Requirement already satisfied: packaging in /system/conda/miniconda3/envs/cloudspace/lib/python3.10/site-packages (from onnxruntime) (24.1)\n",
      "Requirement already satisfied: sympy in /system/conda/miniconda3/envs/cloudspace/lib/python3.10/site-packages (from onnxruntime) (1.13.3)\n",
      "Requirement already satisfied: humanfriendly>=9.1 in /system/conda/miniconda3/envs/cloudspace/lib/python3.10/site-packages (from coloredlogs->onnxruntime) (10.0)\n",
      "Requirement already satisfied: mpmath<1.4,>=1.1.0 in /system/conda/miniconda3/envs/cloudspace/lib/python3.10/site-packages (from sympy->onnxruntime) (1.3.0)\n",
      "Original model exported to original_model.onnx\n",
      "Scripted model exported to scripted_model.onnx\n",
      "Average latency for original model: 5.98 ms\n",
      "Average latency for scripted model: 4.10 ms\n",
      "Speedup: 1.46x\n"
     ]
    }
   ],
   "source": [
    "!pip install onnx onnxruntime\n",
    "import torch.onnx\n",
    "import numpy as np\n",
    "\n",
    "\n",
    "# Set model to evaluation mode\n",
    "model.eval()  \n",
    "\n",
    "# Prepare a dummy input tensor for export and latency measurement\n",
    "device = 'cuda' if torch.cuda.is_available() else 'cpu'\n",
    "dummy_input = torch.randn(1, 3, 224, 224).to(device)\n",
    "\n",
    "#  Export Original Model to ONNX\n",
    "torch.onnx.export(\n",
    "    model,                   \n",
    "    dummy_input,             \n",
    "    \"original_model.onnx\",  \n",
    "    export_params=True,      \n",
    "    opset_version=10,         \n",
    "    do_constant_folding=True, \n",
    "    input_names=['input'],    \n",
    "    output_names=['output'],  \n",
    "    dynamic_axes={'input': {0: 'batch_size'}, 'output': {0: 'batch_size'}}  \n",
    ")\n",
    "print(\"Original model exported to original_model.onnx\")\n",
    "\n",
    "#  Script the Model it is to  Convert to TorchScript\n",
    "scripted_model = torch.jit.script(model)  \n",
    "\n",
    "#  Export Scripted Model to ONNX\n",
    "torch.onnx.export(\n",
    "    scripted_model,              \n",
    "    dummy_input,                  \n",
    "    \"scripted_model.onnx\",       \n",
    "    export_params=True,          \n",
    "    opset_version=10,            \n",
    "    do_constant_folding=True,    \n",
    "    input_names=['input'],        \n",
    "    output_names=['output'],      \n",
    "    dynamic_axes={'input': {0: 'batch_size'}, 'output': {0: 'batch_size'}}  \n",
    ")\n",
    "print(\"Scripted model exported to scripted_model.onnx\")\n",
    "\n",
    "# Average Latency\n",
    "\n",
    "def compute_latency(model, dummy_input, num_runs=100):\n",
    "    latencies = []\n",
    "    with torch.no_grad():\n",
    "        for _ in range(num_runs):\n",
    "            start_time = time.time()\n",
    "            _ = model(dummy_input)\n",
    "            end_time = time.time()\n",
    "            latencies.append((end_time - start_time) * 1000)  # latency in ms\n",
    "    return np.mean(latencies)\n",
    "\n",
    "# Move models to the device\n",
    "model.to(device)\n",
    "scripted_model.to(device)\n",
    "\n",
    "# Measure latency for original and scripted models\n",
    "num_runs = 100\n",
    "original_latency = compute_latency(model, dummy_input, num_runs)\n",
    "scripted_latency = compute_latency(scripted_model, dummy_input, num_runs)\n",
    "\n",
    "# Calculate speedup\n",
    "speedup = original_latency / scripted_latency\n",
    "\n",
    "print(f\"Average latency for original model: {original_latency:.2f} ms\")\n",
    "print(f\"Average latency for scripted model: {scripted_latency:.2f} ms\")\n",
    "print(f\"Speedup: {speedup:.2f}x\")\n"
   ]
  }
 ],
 "metadata": {
  "kernelspec": {
   "display_name": "Python 3",
   "language": "python",
   "name": "python3"
  },
  "language_info": {
   "codemirror_mode": {
    "name": "ipython",
    "version": 3
   },
   "file_extension": ".py",
   "mimetype": "text/x-python",
   "name": "python",
   "nbconvert_exporter": "python",
   "pygments_lexer": "ipython3",
   "version": "3.10.10"
  }
 },
 "nbformat": 4,
 "nbformat_minor": 5
}
